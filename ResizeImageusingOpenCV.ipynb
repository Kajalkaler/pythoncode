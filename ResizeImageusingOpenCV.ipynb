{
 "cells": [
  {
   "cell_type": "code",
   "execution_count": null,
   "metadata": {},
   "outputs": [],
   "source": [
    "#  Import Library \n",
    "import cv2\n",
    "import numpy as np\n",
    "import matplotlib.pyplot as plt\n",
    " \n",
    "# Read the image using imread function\n",
    "image = cv2.imread(\"C:\\\\Users\\\\Kaler\\\\Desktop\\\\images\\\\pflower.jpg\")\n",
    "\n",
    "#  downscale the image using new  width and height\n",
    "down_width = 500\n",
    "down_height = 500\n",
    "down_points = (down_width, down_height)\n",
    "resized_down = cv2.resize(image, down_points, interpolation= cv2.INTER_LINEAR)\n",
    " \n",
    "#  upscale the image using new  width and height\n",
    "up_width = 1000\n",
    "up_height = 1000\n",
    "up_points = (up_width, up_height)\n",
    "resized_up = cv2.resize(image, up_points, interpolation= cv2.INTER_LINEAR)\n",
    " \n",
    "# Display image\n",
    "cv2.imshow(\"Downscale image\", image)\n",
    "cv2.imshow(\"Resized image\", resized_up)\n",
    "cv2.waitKey(0)\n",
    "cv2.destroyAllWindows()\n"
   ]
  },
  {
   "cell_type": "code",
   "execution_count": null,
   "metadata": {},
   "outputs": [],
   "source": []
  },
  {
   "cell_type": "code",
   "execution_count": null,
   "metadata": {},
   "outputs": [],
   "source": []
  }
 ],
 "metadata": {
  "kernelspec": {
   "display_name": "Python 3",
   "language": "python",
   "name": "python3"
  },
  "language_info": {
   "codemirror_mode": {
    "name": "ipython",
    "version": 3
   },
   "file_extension": ".py",
   "mimetype": "text/x-python",
   "name": "python",
   "nbconvert_exporter": "python",
   "pygments_lexer": "ipython3",
   "version": "3.8.5"
  }
 },
 "nbformat": 4,
 "nbformat_minor": 4
}